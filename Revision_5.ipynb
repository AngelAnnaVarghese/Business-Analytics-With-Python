{
  "nbformat": 4,
  "nbformat_minor": 0,
  "metadata": {
    "colab": {
      "provenance": []
    },
    "kernelspec": {
      "name": "python3",
      "display_name": "Python 3"
    },
    "language_info": {
      "name": "python"
    }
  },
  "cells": [
    {
      "cell_type": "code",
      "execution_count": 1,
      "metadata": {
        "colab": {
          "base_uri": "https://localhost:8080/"
        },
        "id": "btrxgYGpwoWJ",
        "outputId": "dc97e9c2-15c4-4f3b-8f79-43bf4f7f3c0c"
      },
      "outputs": [
        {
          "output_type": "stream",
          "name": "stdout",
          "text": [
            "This is \"Python\" programming\n"
          ]
        }
      ],
      "source": [
        "x=\"This is \\\"Python\\\" programming\"#to add comma in btwn sentence we se \\\"\"\n",
        "print(x)"
      ]
    },
    {
      "cell_type": "code",
      "source": [
        "x='He\\'s a doctor' #to add single comma in btwn a sentence\n",
        "print(x)"
      ],
      "metadata": {
        "colab": {
          "base_uri": "https://localhost:8080/"
        },
        "id": "hIshJZR3xXxv",
        "outputId": "eff485e2-13b7-4b3f-bf34-caabfa0db0de"
      },
      "execution_count": 2,
      "outputs": [
        {
          "output_type": "stream",
          "name": "stdout",
          "text": [
            "He's a doctor\n"
          ]
        }
      ]
    },
    {
      "cell_type": "code",
      "source": [
        "print(\"\\\"Angel\\\"Anna Varghese\")"
      ],
      "metadata": {
        "colab": {
          "base_uri": "https://localhost:8080/"
        },
        "id": "QDV0N7C3yL2j",
        "outputId": "d90f37dc-e26f-4a20-b419-00387eb97f9b"
      },
      "execution_count": 4,
      "outputs": [
        {
          "output_type": "stream",
          "name": "stdout",
          "text": [
            "\"Angel\"Anna Varghese\n"
          ]
        }
      ]
    },
    {
      "cell_type": "code",
      "source": [
        "x='He\\'s a doctor'\n",
        "print(x)"
      ],
      "metadata": {
        "colab": {
          "base_uri": "https://localhost:8080/"
        },
        "id": "AUCwoI6pzySR",
        "outputId": "bb7ca85e-e331-4b31-de89-7067536814db"
      },
      "execution_count": 6,
      "outputs": [
        {
          "output_type": "stream",
          "name": "stdout",
          "text": [
            "He's a doctor\n"
          ]
        }
      ]
    },
    {
      "cell_type": "code",
      "source": [
        "print(\"He \\n doctor\")"
      ],
      "metadata": {
        "colab": {
          "base_uri": "https://localhost:8080/"
        },
        "id": "gM-Adgdh0ZCv",
        "outputId": "32ecb0ae-5d6e-4a3a-e389-9bc3cd7cafc3"
      },
      "execution_count": 7,
      "outputs": [
        {
          "output_type": "stream",
          "name": "stdout",
          "text": [
            "He \n",
            " doctor\n"
          ]
        }
      ]
    },
    {
      "cell_type": "code",
      "source": [
        "print(\"Angel \\n Anna Varghese\")"
      ],
      "metadata": {
        "colab": {
          "base_uri": "https://localhost:8080/"
        },
        "id": "ouPKaOqp1Dyv",
        "outputId": "4857757a-9842-4e74-b0a0-bcca577581a2"
      },
      "execution_count": 8,
      "outputs": [
        {
          "output_type": "stream",
          "name": "stdout",
          "text": [
            "Angel \n",
            " Anna Varghese\n"
          ]
        }
      ]
    },
    {
      "cell_type": "code",
      "source": [
        "x=10\n",
        "print(x.isalnum())"
      ],
      "metadata": {
        "colab": {
          "base_uri": "https://localhost:8080/",
          "height": 183
        },
        "id": "nclbiuaa1JKJ",
        "outputId": "f73ac15f-3aaa-4787-dcab-6b46a2622178"
      },
      "execution_count": 12,
      "outputs": [
        {
          "output_type": "error",
          "ename": "AttributeError",
          "evalue": "ignored",
          "traceback": [
            "\u001b[0;31m---------------------------------------------------------------------------\u001b[0m",
            "\u001b[0;31mAttributeError\u001b[0m                            Traceback (most recent call last)",
            "\u001b[0;32m<ipython-input-12-63410ee72bbf>\u001b[0m in \u001b[0;36m<module>\u001b[0;34m\u001b[0m\n\u001b[1;32m      1\u001b[0m \u001b[0mx\u001b[0m\u001b[0;34m=\u001b[0m\u001b[0;36m10\u001b[0m\u001b[0;34m\u001b[0m\u001b[0;34m\u001b[0m\u001b[0m\n\u001b[0;32m----> 2\u001b[0;31m \u001b[0mprint\u001b[0m\u001b[0;34m(\u001b[0m\u001b[0mx\u001b[0m\u001b[0;34m.\u001b[0m\u001b[0misalnum\u001b[0m\u001b[0;34m(\u001b[0m\u001b[0;34m)\u001b[0m\u001b[0;34m)\u001b[0m\u001b[0;34m\u001b[0m\u001b[0;34m\u001b[0m\u001b[0m\n\u001b[0m",
            "\u001b[0;31mAttributeError\u001b[0m: 'int' object has no attribute 'isalnum'"
          ]
        }
      ]
    },
    {
      "cell_type": "code",
      "source": [
        "x=[\"John\",\"Mary\",\"David\",\"Adam\"]\n",
        "y=(input(\"Enter the name:\"))\n",
        "z=int(input(\"Enter the location:\"))\n",
        "x[z]=y\n",
        "print(x)#when we use this code the 2nd place is replaced with the new name"
      ],
      "metadata": {
        "colab": {
          "base_uri": "https://localhost:8080/"
        },
        "id": "PmeOan6u12IX",
        "outputId": "581b21c2-2106-4ade-ddcf-e74c57e98c63"
      },
      "execution_count": 20,
      "outputs": [
        {
          "output_type": "stream",
          "name": "stdout",
          "text": [
            "Enter the name:Rhode\n",
            "Enter the location:2\n",
            "['John', 'Mary', 'Rhode', 'Adam']\n"
          ]
        }
      ]
    },
    {
      "cell_type": "code",
      "source": [
        "x=[\"John\",\"Mary\",\"David\",\"Adam\"]\n",
        "y=(input(\"Enter the name:\"))\n",
        "z=int(input(\"Enter the location:\"))\n",
        "x.insert(z,y)#when we use insert the new name is added along with list"
      ],
      "metadata": {
        "colab": {
          "base_uri": "https://localhost:8080/"
        },
        "id": "RXSU8rWo2uxE",
        "outputId": "de01dd1c-1f3c-47d4-91f5-7a019cb49320"
      },
      "execution_count": 21,
      "outputs": [
        {
          "name": "stdout",
          "output_type": "stream",
          "text": [
            "Enter the name:Rhode\n",
            "Enter the location:1\n"
          ]
        }
      ]
    },
    {
      "cell_type": "code",
      "source": [
        "print(x)"
      ],
      "metadata": {
        "colab": {
          "base_uri": "https://localhost:8080/"
        },
        "id": "LPbnREA98MSf",
        "outputId": "f2f1635c-d725-407c-cf8d-2a6b298fa4ae"
      },
      "execution_count": 23,
      "outputs": [
        {
          "output_type": "stream",
          "name": "stdout",
          "text": [
            "['John', 'Rhode', 'Mary', 'David', 'Adam']\n"
          ]
        }
      ]
    },
    {
      "cell_type": "code",
      "source": [
        " #calling functions\n",
        "  def ridha():\n",
        "    y=(input(\"Enter the name:\"))\n",
        "    z=int(input(\"Enter the location:\"))\n",
        "    x.insert(z,y)"
      ],
      "metadata": {
        "id": "8_UVCAGb8PYc"
      },
      "execution_count": 24,
      "outputs": []
    },
    {
      "cell_type": "code",
      "source": [
        "ridha()\n",
        "print(x)"
      ],
      "metadata": {
        "colab": {
          "base_uri": "https://localhost:8080/"
        },
        "id": "3m9-Hb6u-DZq",
        "outputId": "1e355eaa-c05d-4f12-8ddc-ad4a64748626"
      },
      "execution_count": 27,
      "outputs": [
        {
          "output_type": "stream",
          "name": "stdout",
          "text": [
            "Enter the name:Ridha\n",
            "Enter the location:2\n",
            "['John', 'Ridha BOt', 'Ridha', 'Rhode', 'Mary', 'David', 'Adam']\n"
          ]
        }
      ]
    },
    {
      "cell_type": "code",
      "source": [
        "def Skipper():\n",
        "  d=int(input(\"Enter a number:\"))\n",
        "  f=int(input(\"Enter second number:\"))\n",
        "  print(d+f)\n",
        "  print(d-f)\n",
        "  print(d*f)\n",
        "  print(d/f)\n"
      ],
      "metadata": {
        "id": "f6B1Lfw1-G_I"
      },
      "execution_count": 31,
      "outputs": []
    },
    {
      "cell_type": "code",
      "source": [
        "Skipper()\n"
      ],
      "metadata": {
        "colab": {
          "base_uri": "https://localhost:8080/"
        },
        "id": "NY83DJh_A1QD",
        "outputId": "8d52ec04-3422-498f-a2d0-c94738f88a2d"
      },
      "execution_count": 32,
      "outputs": [
        {
          "output_type": "stream",
          "name": "stdout",
          "text": [
            "Enter a number:52\n",
            "Enter second number:23\n",
            "75\n",
            "29\n",
            "1196\n",
            "2.260869565217391\n"
          ]
        }
      ]
    },
    {
      "cell_type": "code",
      "source": [
        "def math(a,b):\n",
        "  print(a+b)"
      ],
      "metadata": {
        "id": "zAkKOlOCBQp6"
      },
      "execution_count": 50,
      "outputs": []
    },
    {
      "cell_type": "code",
      "source": [
        "x=int(input(\"Enter the first number \"))\n",
        "y=int(input(\"Enter the second number \"))\n",
        "math(x,y)"
      ],
      "metadata": {
        "colab": {
          "base_uri": "https://localhost:8080/"
        },
        "id": "TgtQ58RIEU2K",
        "outputId": "4bb504bd-1e01-4b50-f0ec-80d090547e9c"
      },
      "execution_count": 51,
      "outputs": [
        {
          "output_type": "stream",
          "name": "stdout",
          "text": [
            "Enter the first number 25\n",
            "Enter the second number 25\n",
            "50\n"
          ]
        }
      ]
    },
    {
      "cell_type": "code",
      "source": [
        "def  addition(x,y):\n",
        "  x=int(input(\"Enter a number \"))\n",
        "  y=int(input(\"Enter 2nd number \"))\n",
        "  print(\"add\",x+y)\n",
        " "
      ],
      "metadata": {
        "id": "a58TASrNFN_z"
      },
      "execution_count": 55,
      "outputs": []
    },
    {
      "cell_type": "code",
      "source": [
        "addition(x,y)"
      ],
      "metadata": {
        "colab": {
          "base_uri": "https://localhost:8080/"
        },
        "id": "vk1nmREvFvXo",
        "outputId": "e289059d-cbc7-4fc3-953d-fd62421800e4"
      },
      "execution_count": 56,
      "outputs": [
        {
          "output_type": "stream",
          "name": "stdout",
          "text": [
            "Enter a number 25\n",
            "Enter 2nd number 25\n",
            "add 50\n"
          ]
        }
      ]
    },
    {
      "cell_type": "code",
      "source": [
        "def sub(x,y):\n",
        "  x=int(input(\"Enter a number \"))\n",
        "  y=int(input(\"Enter 2nd number \"))\n",
        "  print(\"sub\",x-y)\n",
        " \n"
      ],
      "metadata": {
        "id": "dIKOX_yCGWXf"
      },
      "execution_count": 58,
      "outputs": []
    },
    {
      "cell_type": "code",
      "source": [
        "sub(x,y)"
      ],
      "metadata": {
        "colab": {
          "base_uri": "https://localhost:8080/"
        },
        "id": "fV6vlnX6GeE4",
        "outputId": "34a34ce2-9ce3-4c34-82da-0ad2d074b280"
      },
      "execution_count": 59,
      "outputs": [
        {
          "output_type": "stream",
          "name": "stdout",
          "text": [
            "Enter a number 20\n",
            "Enter 2nd number 50\n",
            "sub -30\n"
          ]
        }
      ]
    },
    {
      "cell_type": "code",
      "source": [
        "def div(x,y):\n",
        "  x=int(input(\"Enter a number \"))\n",
        "  y=int(input(\"Enter 2nd number \"))\n",
        "  print(\"div\",x/y)\n",
        " "
      ],
      "metadata": {
        "id": "xUwpcUm7Glx0"
      },
      "execution_count": 61,
      "outputs": []
    },
    {
      "cell_type": "code",
      "source": [
        "div(x,y)"
      ],
      "metadata": {
        "colab": {
          "base_uri": "https://localhost:8080/"
        },
        "id": "LR3si14fGuu3",
        "outputId": "9ad5dd38-33ad-4625-f582-8cfdef2fb896"
      },
      "execution_count": 62,
      "outputs": [
        {
          "output_type": "stream",
          "name": "stdout",
          "text": [
            "Enter a number 52\n",
            "Enter 2nd number 953\n",
            "div 0.05456453305351522\n"
          ]
        }
      ]
    },
    {
      "cell_type": "code",
      "source": [
        "def multi(x,y):\n",
        "  x=int(input(\"Enter a number \"))\n",
        "  y=int(input(\"Enter 2nd number \"))\n",
        "  print(\"mult\",x*y)\n",
        " "
      ],
      "metadata": {
        "id": "taN_8azEGyIF"
      },
      "execution_count": 63,
      "outputs": []
    },
    {
      "cell_type": "code",
      "source": [
        "multi(x,y)"
      ],
      "metadata": {
        "colab": {
          "base_uri": "https://localhost:8080/"
        },
        "id": "9cpxL9HlG7lW",
        "outputId": "bb410a9a-5268-4d21-efee-1433fb4639b7"
      },
      "execution_count": 64,
      "outputs": [
        {
          "output_type": "stream",
          "name": "stdout",
          "text": [
            "Enter a number 8\n",
            "Enter 2nd number 9\n",
            "mult 72\n"
          ]
        }
      ]
    },
    {
      "cell_type": "code",
      "source": [],
      "metadata": {
        "id": "n8GAGfjmG9LX"
      },
      "execution_count": null,
      "outputs": []
    }
  ]
}