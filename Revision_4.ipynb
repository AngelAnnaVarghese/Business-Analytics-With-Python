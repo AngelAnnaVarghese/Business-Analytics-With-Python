{
  "nbformat": 4,
  "nbformat_minor": 0,
  "metadata": {
    "colab": {
      "provenance": []
    },
    "kernelspec": {
      "name": "python3",
      "display_name": "Python 3"
    },
    "language_info": {
      "name": "python"
    }
  },
  "cells": [
    {
      "cell_type": "code",
      "execution_count": null,
      "metadata": {
        "colab": {
          "base_uri": "https://localhost:8080/"
        },
        "id": "zSE9U6rJs9Pb",
        "outputId": "433594f6-e422-437a-86c3-f445b9f05316"
      },
      "outputs": [
        {
          "output_type": "execute_result",
          "data": {
            "text/plain": [
              "20"
            ]
          },
          "metadata": {},
          "execution_count": 4
        }
      ],
      "source": [
        "x=\"Angel Anna Varghese \"\n",
        "len(x)"
      ]
    },
    {
      "cell_type": "code",
      "source": [
        "x=[\"John\",\"Mary\",\"David\",\"Adam\"]#to show more than one name you can use x\n",
        "len(x)\n"
      ],
      "metadata": {
        "colab": {
          "base_uri": "https://localhost:8080/"
        },
        "id": "t3F1aIHpug9I",
        "outputId": "3f3cc854-177e-4fc7-e787-bc82acd1ab43"
      },
      "execution_count": null,
      "outputs": [
        {
          "output_type": "execute_result",
          "data": {
            "text/plain": [
              "4"
            ]
          },
          "metadata": {},
          "execution_count": 7
        }
      ]
    },
    {
      "cell_type": "code",
      "source": [
        "type(x)"
      ],
      "metadata": {
        "colab": {
          "base_uri": "https://localhost:8080/"
        },
        "id": "yt-eh2jNvYjG",
        "outputId": "b43e7967-bf72-44a3-9bd1-17c03f82f9f1"
      },
      "execution_count": null,
      "outputs": [
        {
          "output_type": "execute_result",
          "data": {
            "text/plain": [
              "list"
            ]
          },
          "metadata": {},
          "execution_count": 8
        }
      ]
    },
    {
      "cell_type": "code",
      "source": [
        "x #to find the values"
      ],
      "metadata": {
        "colab": {
          "base_uri": "https://localhost:8080/"
        },
        "id": "WXn20vvfvs5L",
        "outputId": "fb19bb5f-fef3-410d-e4ff-4a31624aac79"
      },
      "execution_count": null,
      "outputs": [
        {
          "output_type": "execute_result",
          "data": {
            "text/plain": [
              "['John', 'Mary', 'David', 'Adam']"
            ]
          },
          "metadata": {},
          "execution_count": 9
        }
      ]
    },
    {
      "cell_type": "code",
      "source": [
        "y=[\"Angel Anna Varghese\",19,'09-10-2003',\"Thiruvalla\"]"
      ],
      "metadata": {
        "id": "ZOrASp4jv3iP"
      },
      "execution_count": null,
      "outputs": []
    },
    {
      "cell_type": "code",
      "source": [
        "y\n"
      ],
      "metadata": {
        "colab": {
          "base_uri": "https://localhost:8080/"
        },
        "id": "mhncUUADwQfQ",
        "outputId": "d910a2f0-4dcf-4d6f-d832-3b6865aa86e7"
      },
      "execution_count": null,
      "outputs": [
        {
          "output_type": "execute_result",
          "data": {
            "text/plain": [
              "['Angel Anna Varghese', 19, '09-10-2003', 'Thiruvalla']"
            ]
          },
          "metadata": {},
          "execution_count": 13
        }
      ]
    },
    {
      "cell_type": "code",
      "source": [
        "type(y)"
      ],
      "metadata": {
        "colab": {
          "base_uri": "https://localhost:8080/"
        },
        "id": "8mYXrh0rwf5S",
        "outputId": "a62979ed-30b4-4437-a395-f2ad1105d55e"
      },
      "execution_count": null,
      "outputs": [
        {
          "output_type": "execute_result",
          "data": {
            "text/plain": [
              "list"
            ]
          },
          "metadata": {},
          "execution_count": 17
        }
      ]
    },
    {
      "cell_type": "code",
      "source": [
        "y[0]"
      ],
      "metadata": {
        "colab": {
          "base_uri": "https://localhost:8080/",
          "height": 36
        },
        "id": "EfiQIRrAwxPj",
        "outputId": "ae7952aa-0de9-4b89-ea1e-55a56161fa26"
      },
      "execution_count": null,
      "outputs": [
        {
          "output_type": "execute_result",
          "data": {
            "text/plain": [
              "'Angel Anna Varghese'"
            ],
            "application/vnd.google.colaboratory.intrinsic+json": {
              "type": "string"
            }
          },
          "metadata": {},
          "execution_count": 18
        }
      ]
    },
    {
      "cell_type": "code",
      "source": [
        "y[-1]"
      ],
      "metadata": {
        "colab": {
          "base_uri": "https://localhost:8080/",
          "height": 36
        },
        "id": "xkjNQDmxw0V9",
        "outputId": "c2154140-7753-4493-a30f-6387c58b2597"
      },
      "execution_count": null,
      "outputs": [
        {
          "output_type": "execute_result",
          "data": {
            "text/plain": [
              "'Thiruvalla'"
            ],
            "application/vnd.google.colaboratory.intrinsic+json": {
              "type": "string"
            }
          },
          "metadata": {},
          "execution_count": 19
        }
      ]
    },
    {
      "cell_type": "code",
      "source": [
        "z=[1,239,230,870,235,345,987,9544,2546,35422]"
      ],
      "metadata": {
        "id": "HHUOC3Uaxcaj"
      },
      "execution_count": null,
      "outputs": []
    },
    {
      "cell_type": "code",
      "source": [
        "z[0:1]"
      ],
      "metadata": {
        "colab": {
          "base_uri": "https://localhost:8080/"
        },
        "id": "5UYnTYPjxvS3",
        "outputId": "948c16bd-8dec-47c0-f945-6f96bf02ceff"
      },
      "execution_count": null,
      "outputs": [
        {
          "output_type": "execute_result",
          "data": {
            "text/plain": [
              "[1]"
            ]
          },
          "metadata": {},
          "execution_count": 22
        }
      ]
    },
    {
      "cell_type": "code",
      "source": [
        "z[0:5]"
      ],
      "metadata": {
        "colab": {
          "base_uri": "https://localhost:8080/"
        },
        "id": "FHQfdJkYyUZB",
        "outputId": "d2521681-554d-4a9e-c19a-1e9705a78922"
      },
      "execution_count": null,
      "outputs": [
        {
          "output_type": "execute_result",
          "data": {
            "text/plain": [
              "[1, 239, 230, 870, 235]"
            ]
          },
          "metadata": {},
          "execution_count": 23
        }
      ]
    },
    {
      "cell_type": "code",
      "source": [
        "z[7:10]"
      ],
      "metadata": {
        "colab": {
          "base_uri": "https://localhost:8080/"
        },
        "id": "9BbvPKrYyg33",
        "outputId": "f9a2b021-a715-4914-d74e-270b1e3d8776"
      },
      "execution_count": null,
      "outputs": [
        {
          "output_type": "execute_result",
          "data": {
            "text/plain": [
              "[9544, 2546, 35422]"
            ]
          },
          "metadata": {},
          "execution_count": 24
        }
      ]
    },
    {
      "cell_type": "code",
      "source": [
        "z[-3:]"
      ],
      "metadata": {
        "colab": {
          "base_uri": "https://localhost:8080/"
        },
        "id": "65WUwEGQysKh",
        "outputId": "f9ebd240-cf7e-4f7d-cc8e-f27632dac418"
      },
      "execution_count": null,
      "outputs": [
        {
          "output_type": "execute_result",
          "data": {
            "text/plain": [
              "[9544, 2546, 35422]"
            ]
          },
          "metadata": {},
          "execution_count": 28
        }
      ]
    },
    {
      "cell_type": "code",
      "source": [
        "z[7:]"
      ],
      "metadata": {
        "colab": {
          "base_uri": "https://localhost:8080/"
        },
        "id": "VRnCqVx9yxCB",
        "outputId": "9f9b9497-7596-4ef8-8bb1-3acc3b5c8fe8"
      },
      "execution_count": null,
      "outputs": [
        {
          "output_type": "execute_result",
          "data": {
            "text/plain": [
              "[9544, 2546, 35422]"
            ]
          },
          "metadata": {},
          "execution_count": 29
        }
      ]
    },
    {
      "cell_type": "code",
      "source": [
        "a=[1,239,230,870,235,345,987,9544,2546,35422]\n",
        "a[0]=4"
      ],
      "metadata": {
        "id": "AQsRkajG0RWv"
      },
      "execution_count": null,
      "outputs": []
    },
    {
      "cell_type": "code",
      "source": [
        "a"
      ],
      "metadata": {
        "colab": {
          "base_uri": "https://localhost:8080/"
        },
        "id": "Uvcj1fyP0kbc",
        "outputId": "c9d25c2b-083a-455b-85ac-767226501481"
      },
      "execution_count": null,
      "outputs": [
        {
          "output_type": "execute_result",
          "data": {
            "text/plain": [
              "[4, 239, 230, 870, 235, 345, 987, 9544, 2546, 35422]"
            ]
          },
          "metadata": {},
          "execution_count": 36
        }
      ]
    },
    {
      "cell_type": "code",
      "source": [
        "y=[\"Angel Anna Varghese\",19,'09-10-2003',\"Thiruvalla\"]\n",
        "y[3]=\"Rajagiri\""
      ],
      "metadata": {
        "id": "aVNQL7C80z6C"
      },
      "execution_count": null,
      "outputs": []
    },
    {
      "cell_type": "code",
      "source": [
        "y"
      ],
      "metadata": {
        "colab": {
          "base_uri": "https://localhost:8080/"
        },
        "id": "l-Z3vD1W1mRD",
        "outputId": "201f03c6-d185-418f-bef3-9af6998b9bc3"
      },
      "execution_count": null,
      "outputs": [
        {
          "output_type": "execute_result",
          "data": {
            "text/plain": [
              "['Angel Anna Varghese', 19, '09-10-2003', 'Rajagiri']"
            ]
          },
          "metadata": {},
          "execution_count": 38
        }
      ]
    },
    {
      "cell_type": "code",
      "source": [
        "w=[3,6,9,12]\n",
        "x.append(w)"
      ],
      "metadata": {
        "id": "IQ2Rn0sV1qUe"
      },
      "execution_count": null,
      "outputs": []
    },
    {
      "cell_type": "code",
      "source": [
        "a=[]\n",
        "i=1\n",
        "for i in range(6):\n",
        "  q=input(\"Enter your name:\")\n",
        "  a.append(q)"
      ],
      "metadata": {
        "colab": {
          "base_uri": "https://localhost:8080/"
        },
        "id": "GQ2-LT5U5drR",
        "outputId": "cad537e5-2c38-43c3-8861-d1b4c2f12896"
      },
      "execution_count": null,
      "outputs": [
        {
          "name": "stdout",
          "output_type": "stream",
          "text": [
            "Enter your name:Angel\n",
            "Enter your name:Ridha\n",
            "Enter your name:Enitta\n",
            "Enter your name:Parvathy\n",
            "Enter your name:Tia\n",
            "Enter your name:Nidhi\n"
          ]
        }
      ]
    },
    {
      "cell_type": "code",
      "source": [
        "\n",
        "a"
      ],
      "metadata": {
        "colab": {
          "base_uri": "https://localhost:8080/"
        },
        "id": "bXIZOIdJ6Nw7",
        "outputId": "ba262616-dbe4-4469-db19-fa79814f0039"
      },
      "execution_count": null,
      "outputs": [
        {
          "output_type": "execute_result",
          "data": {
            "text/plain": [
              "['Angel', 'Ridha', 'Enitta', 'Parvathy', 'Tia', 'Nidhi']"
            ]
          },
          "metadata": {},
          "execution_count": 55
        }
      ]
    },
    {
      "cell_type": "code",
      "source": [
        "x=[\"angel\",\"nidhi\",\"parvathy\",\"enitta\",\"tia\",\"ridha\"]\n",
        "y=x.copy()\n",
        "y"
      ],
      "metadata": {
        "colab": {
          "base_uri": "https://localhost:8080/"
        },
        "id": "we_QfT3G7O8k",
        "outputId": "5b6fd222-a892-4a4e-ba6b-e00289cba1c5"
      },
      "execution_count": null,
      "outputs": [
        {
          "output_type": "execute_result",
          "data": {
            "text/plain": [
              "['angel', 'nidhi', 'parvathy', 'enitta', 'tia', 'ridha']"
            ]
          },
          "metadata": {},
          "execution_count": 59
        }
      ]
    },
    {
      "cell_type": "code",
      "source": [
        "x=[\"john\",\"Mary\",\"David\",\"Adam\"]\n",
        "y=['A',\"B\",'C']\n",
        "x.extend(y)"
      ],
      "metadata": {
        "id": "uoM55Kic9LWL"
      },
      "execution_count": null,
      "outputs": []
    },
    {
      "cell_type": "code",
      "source": [
        "x"
      ],
      "metadata": {
        "colab": {
          "base_uri": "https://localhost:8080/"
        },
        "id": "3fJ6depw-sOT",
        "outputId": "989e5483-5dad-4cc2-840c-45fa93762fb5"
      },
      "execution_count": null,
      "outputs": [
        {
          "output_type": "execute_result",
          "data": {
            "text/plain": [
              "['john', 'Mary', 'David', 'Adam', 'A', 'B', 'C']"
            ]
          },
          "metadata": {},
          "execution_count": 61
        }
      ]
    },
    {
      "cell_type": "code",
      "source": [
        "x=[\"hai\",1,\"to\",\"you\",\"hai\"]\n",
        "x.count(\"hai\")"
      ],
      "metadata": {
        "colab": {
          "base_uri": "https://localhost:8080/"
        },
        "id": "H2kF8wXK-s1F",
        "outputId": "b58badb7-1bc4-4b94-a99d-9ce3ccc5705c"
      },
      "execution_count": null,
      "outputs": [
        {
          "output_type": "execute_result",
          "data": {
            "text/plain": [
              "2"
            ]
          },
          "metadata": {},
          "execution_count": 68
        }
      ]
    },
    {
      "cell_type": "code",
      "source": [
        "x=[\"Angel\",\"John\",\"David\",\"Mathew\"]\n",
        "x[1:3]=[\"Sajith\",\"Sweety\"]\n",
        "print(x)"
      ],
      "metadata": {
        "colab": {
          "base_uri": "https://localhost:8080/"
        },
        "id": "lWJ7kPh6-8_V",
        "outputId": "f028d371-25a9-4cb6-cde2-c552b8ebee89"
      },
      "execution_count": null,
      "outputs": [
        {
          "output_type": "stream",
          "name": "stdout",
          "text": [
            "['Angel', 'Sajith', 'Sweety', 'Mathew']\n"
          ]
        }
      ]
    },
    {
      "cell_type": "code",
      "source": [
        "x=[\"Angel\",\"John\",\"David\",\"Mathew\"]\n",
        "x.insert(2,\"enitta\")\n",
        "print(x)"
      ],
      "metadata": {
        "id": "5LpWl26NAONO",
        "colab": {
          "base_uri": "https://localhost:8080/"
        },
        "outputId": "3bf6b3c4-eac4-4505-c1d4-179ca661afe6"
      },
      "execution_count": 75,
      "outputs": [
        {
          "output_type": "stream",
          "name": "stdout",
          "text": [
            "['Angel', 'John', 'enitta', 'David', 'Mathew']\n"
          ]
        }
      ]
    },
    {
      "cell_type": "code",
      "source": [
        "x=[\"Angel\",\"John\",\"David\",\"Mathew\"]\n",
        "x.remove(\"Angel\")"
      ],
      "metadata": {
        "id": "wKveKn95BYHu"
      },
      "execution_count": 76,
      "outputs": []
    },
    {
      "cell_type": "code",
      "source": [
        "x"
      ],
      "metadata": {
        "colab": {
          "base_uri": "https://localhost:8080/"
        },
        "id": "eScO3AF1CVR2",
        "outputId": "0a72fc69-d7ea-42cc-b850-365ee6ca815f"
      },
      "execution_count": 77,
      "outputs": [
        {
          "output_type": "execute_result",
          "data": {
            "text/plain": [
              "['John', 'David', 'Mathew']"
            ]
          },
          "metadata": {},
          "execution_count": 77
        }
      ]
    },
    {
      "cell_type": "code",
      "source": [
        "x=[\"Angel\",\"John\",\"David\",\"Mathew\"]\n",
        "del x[0]\n",
        "del x[-1]\n",
        "print(x)"
      ],
      "metadata": {
        "colab": {
          "base_uri": "https://localhost:8080/"
        },
        "id": "ayrXiBlDCXhO",
        "outputId": "8a76bd88-c084-4689-c87c-17a211bba2a1"
      },
      "execution_count": 81,
      "outputs": [
        {
          "output_type": "stream",
          "name": "stdout",
          "text": [
            "['John', 'David']\n"
          ]
        }
      ]
    },
    {
      "cell_type": "code",
      "source": [
        "x=[\"Angel\",\"John\",\"David\",\"Mathew\"]\n",
        "del x[0:2]\n",
        "print(x)"
      ],
      "metadata": {
        "colab": {
          "base_uri": "https://localhost:8080/"
        },
        "id": "4uFvkaAFDE6B",
        "outputId": "c2e89e49-3f06-4622-a688-1913c0c42283"
      },
      "execution_count": 83,
      "outputs": [
        {
          "output_type": "stream",
          "name": "stdout",
          "text": [
            "['David', 'Mathew']\n"
          ]
        }
      ]
    },
    {
      "cell_type": "code",
      "source": [],
      "metadata": {
        "id": "MZhlEkJtDdde"
      },
      "execution_count": null,
      "outputs": []
    }
  ]
}