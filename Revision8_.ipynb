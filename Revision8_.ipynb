{
  "nbformat": 4,
  "nbformat_minor": 0,
  "metadata": {
    "colab": {
      "provenance": []
    },
    "kernelspec": {
      "name": "python3",
      "display_name": "Python 3"
    },
    "language_info": {
      "name": "python"
    }
  },
  "cells": [
    {
      "cell_type": "code",
      "execution_count": 1,
      "metadata": {
        "id": "3g9UMF9ZMk18"
      },
      "outputs": [],
      "source": [
        "def enitto():\n",
        "  print(\"you are beautifool\")\n",
        "  "
      ]
    },
    {
      "cell_type": "code",
      "source": [
        "enitto()"
      ],
      "metadata": {
        "colab": {
          "base_uri": "https://localhost:8080/"
        },
        "id": "5YGq-sBIQBUX",
        "outputId": "09c0f323-1fe3-472b-f86e-bab4f3ed3deb"
      },
      "execution_count": 2,
      "outputs": [
        {
          "output_type": "stream",
          "name": "stdout",
          "text": [
            "you are beautifool\n"
          ]
        }
      ]
    },
    {
      "cell_type": "code",
      "source": [
        "def ridha(x):\n",
        "  print(\"your roll no is:\",x)"
      ],
      "metadata": {
        "id": "VU5NK53EQP4L"
      },
      "execution_count": 8,
      "outputs": []
    },
    {
      "cell_type": "code",
      "source": [
        "ridha()"
      ],
      "metadata": {
        "colab": {
          "base_uri": "https://localhost:8080/"
        },
        "id": "H8iVpdsTQow4",
        "outputId": "028d6169-eddf-4911-fdd9-e290aa36bd94"
      },
      "execution_count": 4,
      "outputs": [
        {
          "output_type": "stream",
          "name": "stdout",
          "text": [
            "your roll no is: 11\n"
          ]
        }
      ]
    },
    {
      "cell_type": "code",
      "source": [
        "x=int(input(\"enter your roll number:\"))\n",
        "ridha(x)"
      ],
      "metadata": {
        "colab": {
          "base_uri": "https://localhost:8080/"
        },
        "id": "MSczoZ_3QqLo",
        "outputId": "79b830fb-64b0-48a3-d4cc-147651ec4c2d"
      },
      "execution_count": 9,
      "outputs": [
        {
          "output_type": "stream",
          "name": "stdout",
          "text": [
            "enter your roll number:55\n",
            "your roll no is: 55\n"
          ]
        }
      ]
    },
    {
      "cell_type": "code",
      "source": [
        "def Angel(x,y,z,a):\n",
        "  print(\"your name is:\",x)\n",
        "  print(\"your roll no  is :\",y)\n",
        "  print(\"your email address is:\",z)\n",
        "  print(\"your place is :\",a)"
      ],
      "metadata": {
        "id": "zNT4sZ0PRF2y"
      },
      "execution_count": 10,
      "outputs": []
    },
    {
      "cell_type": "code",
      "source": [
        "x=input(\"enter your name:\")\n",
        "y=int(input(\"enter your roll no:\"))\n",
        "z=input(\"enter your emailaddress:\")\n",
        "a=input(\"enter your place :\")\n",
        "Angel(x,y,z,a)"
      ],
      "metadata": {
        "colab": {
          "base_uri": "https://localhost:8080/"
        },
        "id": "zkjHBArKS1m6",
        "outputId": "4fdf5530-298b-44eb-b04d-199a9f4b59e7"
      },
      "execution_count": 15,
      "outputs": [
        {
          "output_type": "stream",
          "name": "stdout",
          "text": [
            "enter your name:Angel\n",
            "enter your roll no:4\n",
            "enter your emailaddress:angel@gmail.com\n",
            "enter your place :Kodukulanji\n",
            "your name is: Angel\n",
            "your roll no  is : 4\n",
            "your email address is: angel@gmail.com\n",
            "your place is : Kodukulanji\n"
          ]
        }
      ]
    },
    {
      "cell_type": "code",
      "source": [
        "x=input(\"enter your name:\")\n",
        "def firstname(x):\n",
        "  print(x[0:6])\n",
        "def secondname(x):\n",
        "  print(x[6:12])"
      ],
      "metadata": {
        "colab": {
          "base_uri": "https://localhost:8080/"
        },
        "id": "TjgsFQVJTBe-",
        "outputId": "17875a28-b98f-4f7d-b339-9d01c1971e62"
      },
      "execution_count": 46,
      "outputs": [
        {
          "name": "stdout",
          "output_type": "stream",
          "text": [
            "enter your name:Angel Anna\n"
          ]
        }
      ]
    },
    {
      "cell_type": "code",
      "source": [
        "firstname(x)\n",
        "secondname(x)"
      ],
      "metadata": {
        "colab": {
          "base_uri": "https://localhost:8080/"
        },
        "id": "n-f-l2YDWc27",
        "outputId": "d37ac412-857b-4108-8da8-9119531a65cd"
      },
      "execution_count": 47,
      "outputs": [
        {
          "output_type": "stream",
          "name": "stdout",
          "text": [
            "Angel \n",
            "Anna\n"
          ]
        }
      ]
    },
    {
      "cell_type": "code",
      "source": [
        "def errum(x):\n",
        "  b=a.split()\n",
        "  print(\"your 1st name\",b[0])\n",
        "  print(\"your 2nd name\",b[1])"
      ],
      "metadata": {
        "id": "tW0VZWkSbLqh"
      },
      "execution_count": 70,
      "outputs": []
    },
    {
      "cell_type": "code",
      "source": [
        "a=input(\"enter your name:\")\n",
        "errum(x)"
      ],
      "metadata": {
        "colab": {
          "base_uri": "https://localhost:8080/"
        },
        "id": "q_s8-XdDcB8e",
        "outputId": "7f8bcdf1-8040-4c35-e626-a1fb09cafa30"
      },
      "execution_count": 82,
      "outputs": [
        {
          "output_type": "stream",
          "name": "stdout",
          "text": [
            "enter your name:angel anna\n",
            "your 1st name angel\n",
            "your 2nd name anna\n"
          ]
        }
      ]
    },
    {
      "cell_type": "code",
      "source": [],
      "metadata": {
        "id": "QNBhcQlxjkBE"
      },
      "execution_count": null,
      "outputs": []
    }
  ]
}