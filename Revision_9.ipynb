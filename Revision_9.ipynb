{
  "nbformat": 4,
  "nbformat_minor": 0,
  "metadata": {
    "colab": {
      "provenance": []
    },
    "kernelspec": {
      "name": "python3",
      "display_name": "Python 3"
    },
    "language_info": {
      "name": "python"
    }
  },
  "cells": [
    {
      "cell_type": "code",
      "execution_count": 5,
      "metadata": {
        "id": "00pgDWT6aCte"
      },
      "outputs": [],
      "source": [
        "x=[1,2,3,4,5,6,7,8,9,10]\n",
        "def numsum(x):\n",
        "  print(\"sum of the list=\",sum(x))\n"
      ]
    },
    {
      "cell_type": "code",
      "source": [
        "numsum(x)"
      ],
      "metadata": {
        "colab": {
          "base_uri": "https://localhost:8080/"
        },
        "id": "3U25w-iHadeO",
        "outputId": "60591a7a-2bd8-40cf-c9d5-c5bb0f42e39d"
      },
      "execution_count": 6,
      "outputs": [
        {
          "output_type": "stream",
          "name": "stdout",
          "text": [
            "sum of the list= 55\n"
          ]
        }
      ]
    },
    {
      "cell_type": "code",
      "source": [
        "def oddeven(x):\n",
        "  x=[1,2,3,4,5,6,7,8,22,23]\n",
        "  odd=[]\n",
        "  even=[]\n",
        "  for i in x:\n",
        "    if(i%2==0):\n",
        "      even.append(i)\n",
        "    else:\n",
        "      odd.append(i)\n",
        "  print(\"odd list=\",odd)\n",
        "  print(\"even list=\",even)"
      ],
      "metadata": {
        "id": "tmqBiuNaamsu"
      },
      "execution_count": 16,
      "outputs": []
    },
    {
      "cell_type": "code",
      "source": [
        "oddeven(x)"
      ],
      "metadata": {
        "colab": {
          "base_uri": "https://localhost:8080/"
        },
        "id": "mDU-o-ksde1n",
        "outputId": "d3a44e0c-31a9-460d-d036-79abb561fd0f"
      },
      "execution_count": 17,
      "outputs": [
        {
          "output_type": "stream",
          "name": "stdout",
          "text": [
            "odd list= [1, 3, 5, 7, 23]\n",
            "even list= [2, 4, 6, 8, 22]\n"
          ]
        }
      ]
    },
    {
      "cell_type": "code",
      "source": [
        "a=\"Python is one of the best languages in the current era\"\n",
        "c=a\n",
        "def v(c,a):\n",
        " vowels=\"AEIOUaeiou\"\n",
        " for k in a:\n",
        "   for k in vowels:\n",
        "     c= c.replace(k,\"\")\n",
        " print(c)"
      ],
      "metadata": {
        "id": "sGSH7FAQdhiK"
      },
      "execution_count": 86,
      "outputs": []
    },
    {
      "cell_type": "code",
      "source": [
        "v(c,a)"
      ],
      "metadata": {
        "colab": {
          "base_uri": "https://localhost:8080/"
        },
        "id": "dnwKUmu4nIlH",
        "outputId": "3261cd26-589b-449b-fa3f-8575d627ff1b"
      },
      "execution_count": 87,
      "outputs": [
        {
          "output_type": "stream",
          "name": "stdout",
          "text": [
            "Pythn s n f th bst lnggs n th crrnt r\n"
          ]
        }
      ]
    },
    {
      "cell_type": "code",
      "source": [],
      "metadata": {
        "id": "7Fl0EAXCqiGx"
      },
      "execution_count": null,
      "outputs": []
    }
  ]
}