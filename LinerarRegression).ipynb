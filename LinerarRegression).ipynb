{
  "nbformat": 4,
  "nbformat_minor": 0,
  "metadata": {
    "colab": {
      "provenance": []
    },
    "kernelspec": {
      "name": "python3",
      "display_name": "Python 3"
    },
    "language_info": {
      "name": "python"
    }
  },
  "cells": [
    {
      "cell_type": "code",
      "execution_count": 1,
      "metadata": {
        "id": "XNrxCsZ8HqQN"
      },
      "outputs": [],
      "source": [
        "import pandas as pd\n",
        "import matplotlib.pyplot as plt\n",
        "import numpy as np"
      ]
    },
    {
      "cell_type": "code",
      "source": [
        "ds=pd.read_excel(\"TSLA.xlsx\")"
      ],
      "metadata": {
        "id": "Ac-q9qIBIKrR"
      },
      "execution_count": 2,
      "outputs": []
    },
    {
      "cell_type": "code",
      "source": [
        "ds\n"
      ],
      "metadata": {
        "colab": {
          "base_uri": "https://localhost:8080/",
          "height": 424
        },
        "id": "dLFBpZuPIU7v",
        "outputId": "88383250-081b-4897-b3d4-d1b6e81f87b6"
      },
      "execution_count": 3,
      "outputs": [
        {
          "output_type": "execute_result",
          "data": {
            "text/plain": [
              "      Date        Open\n",
              "0    44620  271.670013\n",
              "1    44621  289.893341\n",
              "2    44622  290.709991\n",
              "3    44623  292.923340\n",
              "4    44624  283.033325\n",
              "..     ...         ...\n",
              "245  44974  199.990005\n",
              "246  44978  204.990005\n",
              "247  44979  197.929993\n",
              "248  44980  203.910004\n",
              "249  44981  196.330002\n",
              "\n",
              "[250 rows x 2 columns]"
            ],
            "text/html": [
              "\n",
              "  <div id=\"df-808bef21-2e1c-4d27-9f96-61afbc382051\">\n",
              "    <div class=\"colab-df-container\">\n",
              "      <div>\n",
              "<style scoped>\n",
              "    .dataframe tbody tr th:only-of-type {\n",
              "        vertical-align: middle;\n",
              "    }\n",
              "\n",
              "    .dataframe tbody tr th {\n",
              "        vertical-align: top;\n",
              "    }\n",
              "\n",
              "    .dataframe thead th {\n",
              "        text-align: right;\n",
              "    }\n",
              "</style>\n",
              "<table border=\"1\" class=\"dataframe\">\n",
              "  <thead>\n",
              "    <tr style=\"text-align: right;\">\n",
              "      <th></th>\n",
              "      <th>Date</th>\n",
              "      <th>Open</th>\n",
              "    </tr>\n",
              "  </thead>\n",
              "  <tbody>\n",
              "    <tr>\n",
              "      <th>0</th>\n",
              "      <td>44620</td>\n",
              "      <td>271.670013</td>\n",
              "    </tr>\n",
              "    <tr>\n",
              "      <th>1</th>\n",
              "      <td>44621</td>\n",
              "      <td>289.893341</td>\n",
              "    </tr>\n",
              "    <tr>\n",
              "      <th>2</th>\n",
              "      <td>44622</td>\n",
              "      <td>290.709991</td>\n",
              "    </tr>\n",
              "    <tr>\n",
              "      <th>3</th>\n",
              "      <td>44623</td>\n",
              "      <td>292.923340</td>\n",
              "    </tr>\n",
              "    <tr>\n",
              "      <th>4</th>\n",
              "      <td>44624</td>\n",
              "      <td>283.033325</td>\n",
              "    </tr>\n",
              "    <tr>\n",
              "      <th>...</th>\n",
              "      <td>...</td>\n",
              "      <td>...</td>\n",
              "    </tr>\n",
              "    <tr>\n",
              "      <th>245</th>\n",
              "      <td>44974</td>\n",
              "      <td>199.990005</td>\n",
              "    </tr>\n",
              "    <tr>\n",
              "      <th>246</th>\n",
              "      <td>44978</td>\n",
              "      <td>204.990005</td>\n",
              "    </tr>\n",
              "    <tr>\n",
              "      <th>247</th>\n",
              "      <td>44979</td>\n",
              "      <td>197.929993</td>\n",
              "    </tr>\n",
              "    <tr>\n",
              "      <th>248</th>\n",
              "      <td>44980</td>\n",
              "      <td>203.910004</td>\n",
              "    </tr>\n",
              "    <tr>\n",
              "      <th>249</th>\n",
              "      <td>44981</td>\n",
              "      <td>196.330002</td>\n",
              "    </tr>\n",
              "  </tbody>\n",
              "</table>\n",
              "<p>250 rows × 2 columns</p>\n",
              "</div>\n",
              "      <button class=\"colab-df-convert\" onclick=\"convertToInteractive('df-808bef21-2e1c-4d27-9f96-61afbc382051')\"\n",
              "              title=\"Convert this dataframe to an interactive table.\"\n",
              "              style=\"display:none;\">\n",
              "        \n",
              "  <svg xmlns=\"http://www.w3.org/2000/svg\" height=\"24px\"viewBox=\"0 0 24 24\"\n",
              "       width=\"24px\">\n",
              "    <path d=\"M0 0h24v24H0V0z\" fill=\"none\"/>\n",
              "    <path d=\"M18.56 5.44l.94 2.06.94-2.06 2.06-.94-2.06-.94-.94-2.06-.94 2.06-2.06.94zm-11 1L8.5 8.5l.94-2.06 2.06-.94-2.06-.94L8.5 2.5l-.94 2.06-2.06.94zm10 10l.94 2.06.94-2.06 2.06-.94-2.06-.94-.94-2.06-.94 2.06-2.06.94z\"/><path d=\"M17.41 7.96l-1.37-1.37c-.4-.4-.92-.59-1.43-.59-.52 0-1.04.2-1.43.59L10.3 9.45l-7.72 7.72c-.78.78-.78 2.05 0 2.83L4 21.41c.39.39.9.59 1.41.59.51 0 1.02-.2 1.41-.59l7.78-7.78 2.81-2.81c.8-.78.8-2.07 0-2.86zM5.41 20L4 18.59l7.72-7.72 1.47 1.35L5.41 20z\"/>\n",
              "  </svg>\n",
              "      </button>\n",
              "      \n",
              "  <style>\n",
              "    .colab-df-container {\n",
              "      display:flex;\n",
              "      flex-wrap:wrap;\n",
              "      gap: 12px;\n",
              "    }\n",
              "\n",
              "    .colab-df-convert {\n",
              "      background-color: #E8F0FE;\n",
              "      border: none;\n",
              "      border-radius: 50%;\n",
              "      cursor: pointer;\n",
              "      display: none;\n",
              "      fill: #1967D2;\n",
              "      height: 32px;\n",
              "      padding: 0 0 0 0;\n",
              "      width: 32px;\n",
              "    }\n",
              "\n",
              "    .colab-df-convert:hover {\n",
              "      background-color: #E2EBFA;\n",
              "      box-shadow: 0px 1px 2px rgba(60, 64, 67, 0.3), 0px 1px 3px 1px rgba(60, 64, 67, 0.15);\n",
              "      fill: #174EA6;\n",
              "    }\n",
              "\n",
              "    [theme=dark] .colab-df-convert {\n",
              "      background-color: #3B4455;\n",
              "      fill: #D2E3FC;\n",
              "    }\n",
              "\n",
              "    [theme=dark] .colab-df-convert:hover {\n",
              "      background-color: #434B5C;\n",
              "      box-shadow: 0px 1px 3px 1px rgba(0, 0, 0, 0.15);\n",
              "      filter: drop-shadow(0px 1px 2px rgba(0, 0, 0, 0.3));\n",
              "      fill: #FFFFFF;\n",
              "    }\n",
              "  </style>\n",
              "\n",
              "      <script>\n",
              "        const buttonEl =\n",
              "          document.querySelector('#df-808bef21-2e1c-4d27-9f96-61afbc382051 button.colab-df-convert');\n",
              "        buttonEl.style.display =\n",
              "          google.colab.kernel.accessAllowed ? 'block' : 'none';\n",
              "\n",
              "        async function convertToInteractive(key) {\n",
              "          const element = document.querySelector('#df-808bef21-2e1c-4d27-9f96-61afbc382051');\n",
              "          const dataTable =\n",
              "            await google.colab.kernel.invokeFunction('convertToInteractive',\n",
              "                                                     [key], {});\n",
              "          if (!dataTable) return;\n",
              "\n",
              "          const docLinkHtml = 'Like what you see? Visit the ' +\n",
              "            '<a target=\"_blank\" href=https://colab.research.google.com/notebooks/data_table.ipynb>data table notebook</a>'\n",
              "            + ' to learn more about interactive tables.';\n",
              "          element.innerHTML = '';\n",
              "          dataTable['output_type'] = 'display_data';\n",
              "          await google.colab.output.renderOutput(dataTable, element);\n",
              "          const docLink = document.createElement('div');\n",
              "          docLink.innerHTML = docLinkHtml;\n",
              "          element.appendChild(docLink);\n",
              "        }\n",
              "      </script>\n",
              "    </div>\n",
              "  </div>\n",
              "  "
            ]
          },
          "metadata": {},
          "execution_count": 3
        }
      ]
    },
    {
      "cell_type": "code",
      "source": [
        "x=ds.iloc[:,:-1].values"
      ],
      "metadata": {
        "id": "UWkPjqA9IWGh"
      },
      "execution_count": 4,
      "outputs": []
    },
    {
      "cell_type": "code",
      "source": [
        "y=ds.iloc[:,-1].values"
      ],
      "metadata": {
        "id": "IKLFJEH0IcqJ"
      },
      "execution_count": 5,
      "outputs": []
    },
    {
      "cell_type": "code",
      "source": [
        "from sklearn.model_selection import train_test_split\n",
        "x_train, x_test, y_train, y_test = train_test_split(x,y, test_size=0.2 )\n",
        "#it splits the data int two,train and test. it tries to predict using train data and checks the accuracy using test data"
      ],
      "metadata": {
        "id": "v6PRkIs-IhAs"
      },
      "execution_count": 6,
      "outputs": []
    },
    {
      "cell_type": "code",
      "source": [
        "from sklearn.linear_model import LinearRegression\n",
        "regressor=LinearRegression()\n",
        "regressor.fit(x_train, y_train )\n",
        "#fitting train data to regressor"
      ],
      "metadata": {
        "colab": {
          "base_uri": "https://localhost:8080/"
        },
        "id": "KN3U9Q-_JBzw",
        "outputId": "073bb234-7254-497e-d979-ec2fcfd21958"
      },
      "execution_count": 7,
      "outputs": [
        {
          "output_type": "execute_result",
          "data": {
            "text/plain": [
              "LinearRegression()"
            ]
          },
          "metadata": {},
          "execution_count": 7
        }
      ]
    },
    {
      "cell_type": "code",
      "source": [
        "y_pred= regressor.predict(x_test)\n"
      ],
      "metadata": {
        "id": "PvnQzXM6JzLP"
      },
      "execution_count": 8,
      "outputs": []
    },
    {
      "cell_type": "code",
      "source": [
        "plt.scatter(x_test,y_test, color=\"red\")\n",
        "plt.scatter(x_train, y_train, color =\"green\")\n",
        "plt.plot(x_test,y_pred, color =\"blue\")\n",
        "plt.xlabel(\"Volume\")\n",
        "plt.ylabel(\"Profit\")\n",
        "plt.show()"
      ],
      "metadata": {
        "colab": {
          "base_uri": "https://localhost:8080/",
          "height": 279
        },
        "id": "vsKe5wi0J9n0",
        "outputId": "7699cd92-08c4-4e10-d92e-4cbd88b17314"
      },
      "execution_count": 12,
      "outputs": [
        {
          "output_type": "display_data",
          "data": {
            "text/plain": [
              "<Figure size 432x288 with 1 Axes>"
            ],
            "image/png": "[encoded data removed]"
          },
          "metadata": {
            "needs_background": "light"
          }
        }
      ]
    },
    {
      "cell_type": "code",
      "source": [
        "x_questionnaire=ds.iloc[0:200,0:1].values\n",
        "print(x_questionnaire)"
      ],
      "metadata": {
        "colab": {
          "base_uri": "https://localhost:8080/"
        },
        "id": "tg-VSIvbKtXf",
        "outputId": "314b5e66-1fe3-4c03-ca50-632018721a3e"
      },
      "execution_count": 18,
      "outputs": [
        {
          "output_type": "stream",
          "name": "stdout",
          "text": [
            "[[44620]\n",
            " [44621]\n",
            " [44622]\n",
            " [44623]\n",
            " [44624]\n",
            " [44627]\n",
            " [44628]\n",
            " [44629]\n",
            " [44630]\n",
            " [44631]\n",
            " [44634]\n",
            " [44635]\n",
            " [44636]\n",
            " [44637]\n",
            " [44638]\n",
            " [44641]\n",
            " [44642]\n",
            " [44643]\n",
            " [44644]\n",
            " [44645]\n",
            " [44648]\n",
            " [44649]\n",
            " [44650]\n",
            " [44651]\n",
            " [44652]\n",
            " [44655]\n",
            " [44656]\n",
            " [44657]\n",
            " [44658]\n",
            " [44659]\n",
            " [44662]\n",
            " [44663]\n",
            " [44664]\n",
            " [44665]\n",
            " [44669]\n",
            " [44670]\n",
            " [44671]\n",
            " [44672]\n",
            " [44673]\n",
            " [44676]\n",
            " [44677]\n",
            " [44678]\n",
            " [44679]\n",
            " [44680]\n",
            " [44683]\n",
            " [44684]\n",
            " [44685]\n",
            " [44686]\n",
            " [44687]\n",
            " [44690]\n",
            " [44691]\n",
            " [44692]\n",
            " [44693]\n",
            " [44694]\n",
            " [44697]\n",
            " [44698]\n",
            " [44699]\n",
            " [44700]\n",
            " [44701]\n",
            " [44704]\n",
            " [44705]\n",
            " [44706]\n",
            " [44707]\n",
            " [44708]\n",
            " [44712]\n",
            " [44713]\n",
            " [44714]\n",
            " [44715]\n",
            " [44718]\n",
            " [44719]\n",
            " [44720]\n",
            " [44721]\n",
            " [44722]\n",
            " [44725]\n",
            " [44726]\n",
            " [44727]\n",
            " [44728]\n",
            " [44729]\n",
            " [44733]\n",
            " [44734]\n",
            " [44735]\n",
            " [44736]\n",
            " [44739]\n",
            " [44740]\n",
            " [44741]\n",
            " [44742]\n",
            " [44743]\n",
            " [44747]\n",
            " [44748]\n",
            " [44749]\n",
            " [44750]\n",
            " [44753]\n",
            " [44754]\n",
            " [44755]\n",
            " [44756]\n",
            " [44757]\n",
            " [44760]\n",
            " [44761]\n",
            " [44762]\n",
            " [44763]\n",
            " [44764]\n",
            " [44767]\n",
            " [44768]\n",
            " [44769]\n",
            " [44770]\n",
            " [44771]\n",
            " [44774]\n",
            " [44775]\n",
            " [44776]\n",
            " [44777]\n",
            " [44778]\n",
            " [44781]\n",
            " [44782]\n",
            " [44783]\n",
            " [44784]\n",
            " [44785]\n",
            " [44788]\n",
            " [44789]\n",
            " [44790]\n",
            " [44791]\n",
            " [44792]\n",
            " [44795]\n",
            " [44796]\n",
            " [44797]\n",
            " [44798]\n",
            " [44799]\n",
            " [44802]\n",
            " [44803]\n",
            " [44804]\n",
            " [44805]\n",
            " [44806]\n",
            " [44810]\n",
            " [44811]\n",
            " [44812]\n",
            " [44813]\n",
            " [44816]\n",
            " [44817]\n",
            " [44818]\n",
            " [44819]\n",
            " [44820]\n",
            " [44823]\n",
            " [44824]\n",
            " [44825]\n",
            " [44826]\n",
            " [44827]\n",
            " [44830]\n",
            " [44831]\n",
            " [44832]\n",
            " [44833]\n",
            " [44834]\n",
            " [44837]\n",
            " [44838]\n",
            " [44839]\n",
            " [44840]\n",
            " [44841]\n",
            " [44844]\n",
            " [44845]\n",
            " [44846]\n",
            " [44847]\n",
            " [44848]\n",
            " [44851]\n",
            " [44852]\n",
            " [44853]\n",
            " [44854]\n",
            " [44855]\n",
            " [44858]\n",
            " [44859]\n",
            " [44860]\n",
            " [44861]\n",
            " [44862]\n",
            " [44865]\n",
            " [44866]\n",
            " [44867]\n",
            " [44868]\n",
            " [44869]\n",
            " [44872]\n",
            " [44873]\n",
            " [44874]\n",
            " [44875]\n",
            " [44876]\n",
            " [44879]\n",
            " [44880]\n",
            " [44881]\n",
            " [44882]\n",
            " [44883]\n",
            " [44886]\n",
            " [44887]\n",
            " [44888]\n",
            " [44890]\n",
            " [44893]\n",
            " [44894]\n",
            " [44895]\n",
            " [44896]\n",
            " [44897]\n",
            " [44900]\n",
            " [44901]\n",
            " [44902]\n",
            " [44903]\n",
            " [44904]\n",
            " [44907]]\n"
          ]
        }
      ]
    },
    {
      "cell_type": "code",
      "source": [
        "x_test=ds.iloc[200:249,0:1].values\n",
        "x_test"
      ],
      "metadata": {
        "colab": {
          "base_uri": "https://localhost:8080/"
        },
        "id": "9YVUomBRP1Ep",
        "outputId": "25bea457-eb85-41c9-d35f-e4acfd46ddcc"
      },
      "execution_count": 19,
      "outputs": [
        {
          "output_type": "execute_result",
          "data": {
            "text/plain": [
              "array([[44908],\n",
              "       [44909],\n",
              "       [44910],\n",
              "       [44911],\n",
              "       [44914],\n",
              "       [44915],\n",
              "       [44916],\n",
              "       [44917],\n",
              "       [44918],\n",
              "       [44922],\n",
              "       [44923],\n",
              "       [44924],\n",
              "       [44925],\n",
              "       [44929],\n",
              "       [44930],\n",
              "       [44931],\n",
              "       [44932],\n",
              "       [44935],\n",
              "       [44936],\n",
              "       [44937],\n",
              "       [44938],\n",
              "       [44939],\n",
              "       [44943],\n",
              "       [44944],\n",
              "       [44945],\n",
              "       [44946],\n",
              "       [44949],\n",
              "       [44950],\n",
              "       [44951],\n",
              "       [44952],\n",
              "       [44953],\n",
              "       [44956],\n",
              "       [44957],\n",
              "       [44958],\n",
              "       [44959],\n",
              "       [44960],\n",
              "       [44963],\n",
              "       [44964],\n",
              "       [44965],\n",
              "       [44966],\n",
              "       [44967],\n",
              "       [44970],\n",
              "       [44971],\n",
              "       [44972],\n",
              "       [44973],\n",
              "       [44974],\n",
              "       [44978],\n",
              "       [44979],\n",
              "       [44980]])"
            ]
          },
          "metadata": {},
          "execution_count": 19
        }
      ]
    },
    {
      "cell_type": "code",
      "source": [
        "y_test=ds.iloc[200:249,1].values\n",
        "print(y_test)"
      ],
      "metadata": {
        "colab": {
          "base_uri": "https://localhost:8080/"
        },
        "id": "2dgfjB3TQAlN",
        "outputId": "80c31bde-202e-453d-acff-41c3b6bf0c33"
      },
      "execution_count": 20,
      "outputs": [
        {
          "output_type": "stream",
          "name": "stdout",
          "text": [
            "[174.869995 159.25     153.440002 159.639999 154.       146.050003\n",
            " 139.339996 136.       126.370003 117.5      110.349998 120.389999\n",
            " 119.949997 118.470001 109.110001 110.510002 103.       118.959999\n",
            " 121.07     122.089996 122.559998 116.550003 125.699997 136.559998\n",
            " 127.260002 128.679993 135.869995 143.       141.910004 159.970001\n",
            " 162.429993 178.050003 164.570007 173.889999 187.330002 183.949997\n",
            " 193.009995 196.429993 196.100006 207.779999 202.229996 194.419998\n",
            " 191.940002 211.759995 210.779999 199.990005 204.990005 197.929993\n",
            " 203.910004]\n"
          ]
        }
      ]
    },
    {
      "cell_type": "code",
      "source": [
        "y_questionbank =ds.iloc[0:200,-1].values\n",
        "print(y_questionbank)"
      ],
      "metadata": {
        "colab": {
          "base_uri": "https://localhost:8080/"
        },
        "id": "MvAzy23mRFAM",
        "outputId": "d12e1898-0da9-4377-bd05-e4c893a5ddae"
      },
      "execution_count": 21,
      "outputs": [
        {
          "output_type": "stream",
          "name": "stdout",
          "text": [
            "[271.670013 289.893341 290.709991 292.92334  283.033325 285.433319\n",
            " 265.176666 279.82666  283.816681 280.066681 260.203339 258.42334\n",
            " 269.666656 276.996674 291.496674 304.993347 310.       326.646667\n",
            " 336.57666  336.       355.033325 369.329987 363.723328 364.856659\n",
            " 360.383331 363.126678 378.766663 357.823334 350.796661 347.736664\n",
            " 326.799988 332.546661 327.026672 333.09668  329.676666 335.019989\n",
            " 343.333344 358.243347 338.303345 326.323334 331.809998 299.526672\n",
            " 299.993347 300.75     286.92334  301.059998 301.313324 313.006653\n",
            " 295.666656 278.816681 273.103333 265.       233.666672 257.82666\n",
            " 255.720001 249.119995 248.17334  235.666672 237.996674 218.339996\n",
            " 217.843338 207.949997 220.473328 241.083328 257.946655 251.720001\n",
            " 244.156662 243.226669 244.353333 234.       240.08667  249.339996\n",
            " 235.156662 223.166672 218.286667 220.916672 222.736664 213.433334\n",
            " 224.603333 234.503326 237.906662 237.470001 249.366669 244.483337\n",
            " 230.5      224.509995 227.       223.       230.779999 233.919998\n",
            " 242.333328 252.103333 236.846664 225.5      234.896667 240.\n",
            " 244.936661 245.       246.78334  255.106674 276.220001 272.216675\n",
            " 266.513336 263.809998 280.066681 280.700012 301.276672 294.003326\n",
            " 305.       311.       302.670013 295.       290.293335 297.066681\n",
            " 296.513336 289.416656 301.786682 311.666656 303.396667 306.\n",
            " 299.       291.91333  291.453339 297.563324 302.359985 297.429993\n",
            " 282.829987 287.869995 280.619995 272.579987 281.070007 272.679993\n",
            " 273.100006 281.299988 291.670013 300.720001 292.899994 292.23999\n",
            " 301.829987 299.609985 300.089996 306.910004 308.290009 299.859985\n",
            " 283.089996 271.829987 283.839996 283.079987 282.76001  266.149994\n",
            " 254.5      250.520004 245.009995 239.440002 233.940002 223.929993\n",
            " 220.949997 215.330002 208.300003 224.009995 210.039993 229.5\n",
            " 219.800003 208.279999 206.419998 205.820007 210.100006 219.399994\n",
            " 229.770004 225.399994 226.190002 234.050003 226.039993 211.360001\n",
            " 222.600006 208.649994 194.020004 190.779999 189.899994 186.\n",
            " 192.770004 195.880005 191.509995 183.960007 185.050003 175.850006\n",
            " 168.630005 173.570007 185.059998 179.960007 184.990005 182.429993\n",
            " 197.080002 191.779999 189.440002 181.220001 175.029999 172.199997\n",
            " 173.839996 176.100006]\n"
          ]
        }
      ]
    },
    {
      "cell_type": "code",
      "source": [
        "from sklearn.linear_model import LinearRegression\n",
        "regressor=LinearRegression()\n",
        "regressor.fit(x_questionnaire,y_questionbank)"
      ],
      "metadata": {
        "colab": {
          "base_uri": "https://localhost:8080/"
        },
        "id": "3ewgVz0XSDFw",
        "outputId": "0aae6bba-e278-4e0d-bb44-6c89129c011f"
      },
      "execution_count": 23,
      "outputs": [
        {
          "output_type": "execute_result",
          "data": {
            "text/plain": [
              "LinearRegression()"
            ]
          },
          "metadata": {},
          "execution_count": 23
        }
      ]
    },
    {
      "cell_type": "code",
      "source": [
        "regressor.predict(x_test)"
      ],
      "metadata": {
        "colab": {
          "base_uri": "https://localhost:8080/"
        },
        "id": "0DjcXJk4SU2s",
        "outputId": "3e14e47d-e526-455a-8eff-7d59a283ac3b"
      },
      "execution_count": 24,
      "outputs": [
        {
          "output_type": "execute_result",
          "data": {
            "text/plain": [
              "array([208.33583026, 207.96639586, 207.59696146, 207.22752706,\n",
              "       206.11922386, 205.74978946, 205.38035506, 205.01092066,\n",
              "       204.64148626, 203.16374866, 202.79431426, 202.42487986,\n",
              "       202.05544546, 200.57770786, 200.20827346, 199.83883906,\n",
              "       199.46940466, 198.36110146, 197.99166706, 197.62223266,\n",
              "       197.25279826, 196.88336386, 195.40562625, 195.03619185,\n",
              "       194.66675745, 194.29732305, 193.18901985, 192.81958545,\n",
              "       192.45015105, 192.08071665, 191.71128225, 190.60297905,\n",
              "       190.23354465, 189.86411025, 189.49467585, 189.12524145,\n",
              "       188.01693825, 187.64750385, 187.27806945, 186.90863505,\n",
              "       186.53920065, 185.43089745, 185.06146305, 184.69202865,\n",
              "       184.32259425, 183.95315985, 182.47542225, 182.10598785,\n",
              "       181.73655345])"
            ]
          },
          "metadata": {},
          "execution_count": 24
        }
      ]
    },
    {
      "cell_type": "code",
      "source": [
        "plt.scatter(x_questionnaire,y_questionbank, color='green')\n",
        "plt.scatter(x_test,y_test, color='blue')\n",
        "plt.plot(x_test,regressor.predict(x_test),color='red')\n",
        "plt.xlabel('Package')\n",
        "plt.ylabel('Sales')\n",
        "plt.show()"
      ],
      "metadata": {
        "colab": {
          "base_uri": "https://localhost:8080/",
          "height": 279
        },
        "id": "im3-QE7LSrn2",
        "outputId": "41a40b6d-a261-4255-aeec-5fecc36ed33a"
      },
      "execution_count": 26,
      "outputs": [
        {
          "output_type": "display_data",
          "data": {
            "text/plain": [
              "<Figure size 432x288 with 1 Axes>"
            ],
            "image/png": "[encoded data removed]"
          },
          "metadata": {
            "needs_background": "light"
          }
        }
      ]
    },
    {
      "cell_type": "code",
      "source": [],
      "metadata": {
        "id": "7xZ7WVKiTwBW"
      },
      "execution_count": null,
      "outputs": []
    }
  ]
}