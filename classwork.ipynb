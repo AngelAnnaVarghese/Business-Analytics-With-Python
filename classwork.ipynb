{
  "nbformat": 4,
  "nbformat_minor": 0,
  "metadata": {
    "colab": {
      "name": "classwork.ipynb",
      "provenance": []
    },
    "kernelspec": {
      "name": "python3",
      "display_name": "Python 3"
    },
    "language_info": {
      "name": "python"
    }
  },
  "cells": [
    {
      "cell_type": "code",
      "source": [
        "k=0\n",
        "l=[]\n",
        "a=int(input(\"number of sub:\"))\n",
        "while k<a:\n",
        "  b=int(input(\"enter marks of 1st sem\"))\n",
        "  l.append(b)\n",
        "  k=k+1\n",
        "n=len(l)\n",
        "print(sum(l))\n",
        "print(max(l))\n",
        "print(min(l))\n",
        "print(sum(l)/n)"
      ],
      "metadata": {
        "colab": {
          "base_uri": "https://localhost:8080/"
        },
        "id": "FsvNRtw9sRx9",
        "outputId": "9b3eea5c-5655-4d6f-a113-77b6e902c3cf"
      },
      "execution_count": 7,
      "outputs": [
        {
          "output_type": "stream",
          "name": "stdout",
          "text": [
            "number of sub:6\n",
            "enter marks of 1st sem75\n",
            "enter marks of 1st sem65\n",
            "enter marks of 1st sem10\n",
            "enter marks of 1st sem65\n",
            "enter marks of 1st sem54\n",
            "enter marks of 1st sem54\n",
            "323\n",
            "75\n",
            "10\n",
            "53.833333333333336\n"
          ]
        }
      ]
    },
    {
      "cell_type": "code",
      "source": [
        "x=0\n",
        "s=int(input(\"enter total sales\"))\n",
        "com=(10/100)*s\n",
        "while s>=10000:\n",
        "  x=x+1000\n",
        "  s=s-10000\n",
        "t=com+x\n",
        "print(t)\n",
        "\n",
        "\n",
        "\n",
        "\n"
      ],
      "metadata": {
        "colab": {
          "base_uri": "https://localhost:8080/"
        },
        "id": "WOTUhaSBu9yN",
        "outputId": "b6d46cf3-6b78-4732-826f-0f2486fc02c7"
      },
      "execution_count": 8,
      "outputs": [
        {
          "output_type": "stream",
          "name": "stdout",
          "text": [
            "enter total sales50000\n",
            "10000.0\n"
          ]
        }
      ]
    }
  ]
}